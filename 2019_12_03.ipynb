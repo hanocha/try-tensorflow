{
  "nbformat": 4,
  "nbformat_minor": 0,
  "metadata": {
    "colab": {
      "name": "2019-12-03",
      "provenance": [],
      "include_colab_link": true
    },
    "kernelspec": {
      "name": "python3",
      "display_name": "Python 3"
    }
  },
  "cells": [
    {
      "cell_type": "markdown",
      "metadata": {
        "id": "view-in-github",
        "colab_type": "text"
      },
      "source": [
        "<a href=\"https://colab.research.google.com/github/hanocha/try-tensorflow/blob/master/2019_12_03.ipynb\" target=\"_parent\"><img src=\"https://colab.research.google.com/assets/colab-badge.svg\" alt=\"Open In Colab\"/></a>"
      ]
    },
    {
      "cell_type": "code",
      "metadata": {
        "id": "ovtsiRv9x09h",
        "colab_type": "code",
        "colab": {
          "base_uri": "https://localhost:8080/",
          "height": 68
        },
        "outputId": "ab16363c-43aa-4a9c-f822-66eb4e89b317"
      },
      "source": [
        "import tensorflow as tf\n",
        "\n",
        "g = tf.Graph()\n",
        "\n",
        "with g.as_default():\n",
        "  x = tf.placeholder(dtype=tf.float32, shape=(None), name='x')\n",
        "  w = tf.Variable(2.0, name='weight')\n",
        "  b = tf.Variable(0.7, name='bias')\n",
        "\n",
        "  z = w * x + b\n",
        "\n",
        "  init = tf.global_variables_initializer()\n",
        "\n",
        "\n",
        "with tf.Session(graph=g) as sess:\n",
        "  sess.run(init)\n",
        "\n",
        "  for t in [1.0, 0.6, -1.8]:\n",
        "    print('x=%4.1f --> z=%4.1f' % (t, sess.run(z, feed_dict={x:t})))"
      ],
      "execution_count": 2,
      "outputs": [
        {
          "output_type": "stream",
          "text": [
            "x= 1.0 --> z= 2.7\n",
            "x= 0.6 --> z= 1.9\n",
            "x=-1.8 --> z=-2.9\n"
          ],
          "name": "stdout"
        }
      ]
    },
    {
      "cell_type": "code",
      "metadata": {
        "id": "dh0BzlEG1tbB",
        "colab_type": "code",
        "colab": {
          "base_uri": "https://localhost:8080/",
          "height": 170
        },
        "outputId": "4e420aa9-be4d-40b7-85c2-5e13ad3500ae"
      },
      "source": [
        "import tensorflow as tf\n",
        "import numpy as np\n",
        "\n",
        "g = tf.Graph()\n",
        "\n",
        "with g.as_default():\n",
        "  x = tf.placeholder(dtype=tf.float32, shape=(None, 2, 3), name='input_x')\n",
        "  x2 = tf.reshape(x, shape=(-1, 6), name='x2')\n",
        "  xsum = tf.reduce_sum(x2, axis=0, name='col_sum')\n",
        "  xmean = tf.reduce_mean(x2, axis=0, name='col_mean')\n",
        "\n",
        "  with tf.Session(graph=g) as sess:\n",
        "    x_array = np.arange(18).reshape(3,2,3)\n",
        "    print('input shape: ', x_array.shape)\n",
        "    print('Reshaped: \\n', sess.run(x2, feed_dict={x: x_array}))\n",
        "    print('Column Sums: \\n', sess.run(xsum, feed_dict={x: x_array}))\n",
        "    print('Column means: \\n', sess.run(xmean, feed_dict={x: x_array}))"
      ],
      "execution_count": 3,
      "outputs": [
        {
          "output_type": "stream",
          "text": [
            "input shape:  (3, 2, 3)\n",
            "Reshaped: \n",
            " [[ 0.  1.  2.  3.  4.  5.]\n",
            " [ 6.  7.  8.  9. 10. 11.]\n",
            " [12. 13. 14. 15. 16. 17.]]\n",
            "Column Sums: \n",
            " [18. 21. 24. 27. 30. 33.]\n",
            "Column means: \n",
            " [ 6.  7.  8.  9. 10. 11.]\n"
          ],
          "name": "stdout"
        }
      ]
    },
    {
      "cell_type": "code",
      "metadata": {
        "id": "PCCC5DR73LzQ",
        "colab_type": "code",
        "colab": {
          "base_uri": "https://localhost:8080/",
          "height": 136
        },
        "outputId": "916fdaa7-ca9f-4bf0-9256-d2a8f51ea1fc"
      },
      "source": [
        "class TfLinreg(object):\n",
        "  def __init__(self, x_dim, learning_rate=0.01, random_seed=None):\n",
        "    self.x_dim = x_dim\n",
        "    self.learning_rate = learning_rate\n",
        "    self.g = tf.Graph()\n",
        "\n",
        "    with self.g.as_default():\n",
        "      tf.set_random_seed(random_seed)\n",
        "\n",
        "      self.build()\n",
        "\n",
        "      self.init_op = tf.global_variables_initializer()\n",
        "\n",
        "  def build(self):\n",
        "    self.X = tf.placeholder(dtype=tf.float32,\n",
        "                            shape=(None, self.x_dim),\n",
        "                            name='x_input')\n",
        "    \n",
        "    self.y = tf.placeholder(dtype=tf.float32,\n",
        "                            shape=(None),\n",
        "                            name='y_input')\n",
        "    \n",
        "    print(self.X)\n",
        "    print(self.y)\n",
        "\n",
        "    w = tf.Variable(tf.zeros(shape=(1)), name='weight')\n",
        "    b = tf.Variable(tf.zeros(shape=(1)), name='bias')\n",
        "    print(w)\n",
        "    print(b)\n",
        "\n",
        "    self.z_net = tf.squeeze(w * self.X + b, name='z_net')\n",
        "    print(self.z_net)\n",
        "\n",
        "    sqr_errors = tf.square(self.y - self.z_net, name='sqr_errors')\n",
        "    print(sqr_errors)\n",
        "\n",
        "    self.mean_cost = tf.reduce_mean(sqr_errors, name='mean_cost')\n",
        "\n",
        "    optimizer = tf.train.GradientDescentOptimizer(\n",
        "      learning_rate=self.learning_rate,\n",
        "      name='GradientDescent'\n",
        "    )\n",
        "\n",
        "    self.optimizer = optimizer.minimize(self.mean_cost)\n",
        "\n",
        "\n",
        "X_train = np.arange(10).reshape((10,1))\n",
        "y_train = np.array([1.0, 1.3, 3.1, 2.0, 5.0, 6.3, 6.6, 7.4, 8.0, 9.0])\n",
        "\n",
        "print(X_train.shape)\n",
        "\n",
        "lrmodel = TfLinreg(x_dim=X_train.shape[1], learning_rate=0.01)"
      ],
      "execution_count": 17,
      "outputs": [
        {
          "output_type": "stream",
          "text": [
            "(10, 1)\n",
            "Tensor(\"x_input:0\", shape=(?, 1), dtype=float32)\n",
            "Tensor(\"y_input:0\", dtype=float32)\n",
            "<tf.Variable 'weight:0' shape=(1,) dtype=float32_ref>\n",
            "<tf.Variable 'bias:0' shape=(1,) dtype=float32_ref>\n",
            "Tensor(\"z_net:0\", dtype=float32)\n",
            "Tensor(\"sqr_errors:0\", dtype=float32)\n"
          ],
          "name": "stdout"
        }
      ]
    },
    {
      "cell_type": "code",
      "metadata": {
        "id": "wCqdg_eT7Mt0",
        "colab_type": "code",
        "colab": {
          "base_uri": "https://localhost:8080/",
          "height": 299
        },
        "outputId": "1d331f05-35fb-43b4-a87e-d85caaa6f372"
      },
      "source": [
        "import matplotlib.pyplot as plt\n",
        "\n",
        "def train_linreg(sess, model, X_train, y_train, num_epochs=10):\n",
        "  sess.run(model.init_op)\n",
        "  training_costs = []\n",
        "  for i in range(num_epochs):\n",
        "    _, cost = sess.run([model.optimizer, model.mean_cost], feed_dict={model.X:X_train, model.y:y_train})\n",
        "    training_costs.append(cost)\n",
        "\n",
        "  return training_costs\n",
        "\n",
        "sess = tf.Session(graph=lrmodel.g)\n",
        "training_costs = train_linreg(sess, lrmodel, X_train, y_train)\n",
        "\n",
        "print(range(1, len(training_costs) + 1))\n",
        "print(training_costs)\n",
        "\n",
        "plt.plot(range(1, len(training_costs) + 1), training_costs)\n",
        "plt.show()"
      ],
      "execution_count": 24,
      "outputs": [
        {
          "output_type": "stream",
          "text": [
            "range(1, 11)\n",
            "[32.431, 6.0113096, 1.446125, 0.65659344, 0.5193632, 0.4948352, 0.48978764, 0.48811454, 0.48703355, 0.48606348]\n"
          ],
          "name": "stdout"
        },
        {
          "output_type": "display_data",
          "data": {
            "image/png": "[encoded data removed]",
            "text/plain": [
              "<Figure size 432x288 with 1 Axes>"
            ]
          },
          "metadata": {
            "tags": []
          }
        }
      ]
    }
  ]
}