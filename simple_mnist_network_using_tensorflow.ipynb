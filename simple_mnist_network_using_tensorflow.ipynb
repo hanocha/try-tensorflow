{
  "nbformat": 4,
  "nbformat_minor": 0,
  "metadata": {
    "colab": {
      "name": "simple_mnist_network_using_tensorflow",
      "provenance": [],
      "include_colab_link": true
    },
    "kernelspec": {
      "name": "python3",
      "display_name": "Python 3"
    },
    "widgets": {
      "application/vnd.jupyter.widget-state+json": {
        "60dd530122834958bc0f3e3ae4ca5757": {
          "model_module": "@jupyter-widgets/controls",
          "model_name": "HBoxModel",
          "state": {
            "_view_name": "HBoxView",
            "_dom_classes": [],
            "_model_name": "HBoxModel",
            "_view_module": "@jupyter-widgets/controls",
            "_model_module_version": "1.5.0",
            "_view_count": null,
            "_view_module_version": "1.5.0",
            "box_style": "",
            "layout": "IPY_MODEL_8c69371b66d24ca2857e704a7c5fcb9b",
            "_model_module": "@jupyter-widgets/controls",
            "children": [
              "IPY_MODEL_d19ba72b17104733b076e400f5e79fcf",
              "IPY_MODEL_0a86d7ed540e49a4a43f34f5da4d62da"
            ]
          }
        },
        "8c69371b66d24ca2857e704a7c5fcb9b": {
          "model_module": "@jupyter-widgets/base",
          "model_name": "LayoutModel",
          "state": {
            "_view_name": "LayoutView",
            "grid_template_rows": null,
            "right": null,
            "justify_content": null,
            "_view_module": "@jupyter-widgets/base",
            "overflow": null,
            "_model_module_version": "1.2.0",
            "_view_count": null,
            "flex_flow": null,
            "width": null,
            "min_width": null,
            "border": null,
            "align_items": null,
            "bottom": null,
            "_model_module": "@jupyter-widgets/base",
            "top": null,
            "grid_column": null,
            "overflow_y": null,
            "overflow_x": null,
            "grid_auto_flow": null,
            "grid_area": null,
            "grid_template_columns": null,
            "flex": null,
            "_model_name": "LayoutModel",
            "justify_items": null,
            "grid_row": null,
            "max_height": null,
            "align_content": null,
            "visibility": null,
            "align_self": null,
            "height": null,
            "min_height": null,
            "padding": null,
            "grid_auto_rows": null,
            "grid_gap": null,
            "max_width": null,
            "order": null,
            "_view_module_version": "1.2.0",
            "grid_template_areas": null,
            "object_position": null,
            "object_fit": null,
            "grid_auto_columns": null,
            "margin": null,
            "display": null,
            "left": null
          }
        },
        "d19ba72b17104733b076e400f5e79fcf": {
          "model_module": "@jupyter-widgets/controls",
          "model_name": "IntProgressModel",
          "state": {
            "_view_name": "ProgressView",
            "style": "IPY_MODEL_855426b16fb846499431f7b51d057cfa",
            "_dom_classes": [],
            "description": "Dl Completed...",
            "_model_name": "IntProgressModel",
            "bar_style": "success",
            "max": 19,
            "_view_module": "@jupyter-widgets/controls",
            "_model_module_version": "1.5.0",
            "value": 19,
            "_view_count": null,
            "_view_module_version": "1.5.0",
            "orientation": "horizontal",
            "min": 0,
            "description_tooltip": null,
            "_model_module": "@jupyter-widgets/controls",
            "layout": "IPY_MODEL_0a1bc3d56afa4f6d858070f7848e36de"
          }
        },
        "0a86d7ed540e49a4a43f34f5da4d62da": {
          "model_module": "@jupyter-widgets/controls",
          "model_name": "HTMLModel",
          "state": {
            "_view_name": "HTMLView",
            "style": "IPY_MODEL_0a3b1d5563604a048ce6313fd8fe5d26",
            "_dom_classes": [],
            "description": "",
            "_model_name": "HTMLModel",
            "placeholder": "​",
            "_view_module": "@jupyter-widgets/controls",
            "_model_module_version": "1.5.0",
            "value": "100% 19/19 [00:01&lt;00:00, 10.18 file/s]",
            "_view_count": null,
            "_view_module_version": "1.5.0",
            "description_tooltip": null,
            "_model_module": "@jupyter-widgets/controls",
            "layout": "IPY_MODEL_acc000232c604a8ca5c3cc4d1033b311"
          }
        },
        "855426b16fb846499431f7b51d057cfa": {
          "model_module": "@jupyter-widgets/controls",
          "model_name": "ProgressStyleModel",
          "state": {
            "_view_name": "StyleView",
            "_model_name": "ProgressStyleModel",
            "description_width": "initial",
            "_view_module": "@jupyter-widgets/base",
            "_model_module_version": "1.5.0",
            "_view_count": null,
            "_view_module_version": "1.2.0",
            "bar_color": null,
            "_model_module": "@jupyter-widgets/controls"
          }
        },
        "0a1bc3d56afa4f6d858070f7848e36de": {
          "model_module": "@jupyter-widgets/base",
          "model_name": "LayoutModel",
          "state": {
            "_view_name": "LayoutView",
            "grid_template_rows": null,
            "right": null,
            "justify_content": null,
            "_view_module": "@jupyter-widgets/base",
            "overflow": null,
            "_model_module_version": "1.2.0",
            "_view_count": null,
            "flex_flow": null,
            "width": null,
            "min_width": null,
            "border": null,
            "align_items": null,
            "bottom": null,
            "_model_module": "@jupyter-widgets/base",
            "top": null,
            "grid_column": null,
            "overflow_y": null,
            "overflow_x": null,
            "grid_auto_flow": null,
            "grid_area": null,
            "grid_template_columns": null,
            "flex": null,
            "_model_name": "LayoutModel",
            "justify_items": null,
            "grid_row": null,
            "max_height": null,
            "align_content": null,
            "visibility": null,
            "align_self": null,
            "height": null,
            "min_height": null,
            "padding": null,
            "grid_auto_rows": null,
            "grid_gap": null,
            "max_width": null,
            "order": null,
            "_view_module_version": "1.2.0",
            "grid_template_areas": null,
            "object_position": null,
            "object_fit": null,
            "grid_auto_columns": null,
            "margin": null,
            "display": null,
            "left": null
          }
        },
        "0a3b1d5563604a048ce6313fd8fe5d26": {
          "model_module": "@jupyter-widgets/controls",
          "model_name": "DescriptionStyleModel",
          "state": {
            "_view_name": "StyleView",
            "_model_name": "DescriptionStyleModel",
            "description_width": "",
            "_view_module": "@jupyter-widgets/base",
            "_model_module_version": "1.5.0",
            "_view_count": null,
            "_view_module_version": "1.2.0",
            "_model_module": "@jupyter-widgets/controls"
          }
        },
        "acc000232c604a8ca5c3cc4d1033b311": {
          "model_module": "@jupyter-widgets/base",
          "model_name": "LayoutModel",
          "state": {
            "_view_name": "LayoutView",
            "grid_template_rows": null,
            "right": null,
            "justify_content": null,
            "_view_module": "@jupyter-widgets/base",
            "overflow": null,
            "_model_module_version": "1.2.0",
            "_view_count": null,
            "flex_flow": null,
            "width": null,
            "min_width": null,
            "border": null,
            "align_items": null,
            "bottom": null,
            "_model_module": "@jupyter-widgets/base",
            "top": null,
            "grid_column": null,
            "overflow_y": null,
            "overflow_x": null,
            "grid_auto_flow": null,
            "grid_area": null,
            "grid_template_columns": null,
            "flex": null,
            "_model_name": "LayoutModel",
            "justify_items": null,
            "grid_row": null,
            "max_height": null,
            "align_content": null,
            "visibility": null,
            "align_self": null,
            "height": null,
            "min_height": null,
            "padding": null,
            "grid_auto_rows": null,
            "grid_gap": null,
            "max_width": null,
            "order": null,
            "_view_module_version": "1.2.0",
            "grid_template_areas": null,
            "object_position": null,
            "object_fit": null,
            "grid_auto_columns": null,
            "margin": null,
            "display": null,
            "left": null
          }
        }
      }
    }
  },
  "cells": [
    {
      "cell_type": "markdown",
      "metadata": {
        "id": "view-in-github",
        "colab_type": "text"
      },
      "source": [
        "<a href=\"https://colab.research.google.com/github/hanocha/try-tensorflow/blob/master/simple_mnist_network_using_tensorflow.ipynb\" target=\"_parent\"><img src=\"https://colab.research.google.com/assets/colab-badge.svg\" alt=\"Open In Colab\"/></a>"
      ]
    },
    {
      "cell_type": "code",
      "metadata": {
        "id": "HhmmttqEvOmb",
        "colab_type": "code",
        "outputId": "c16b837d-35bb-4a45-b027-07d118023c5a",
        "colab": {
          "base_uri": "https://localhost:8080/",
          "height": 265,
          "referenced_widgets": [
            "60dd530122834958bc0f3e3ae4ca5757",
            "8c69371b66d24ca2857e704a7c5fcb9b",
            "d19ba72b17104733b076e400f5e79fcf",
            "0a86d7ed540e49a4a43f34f5da4d62da",
            "855426b16fb846499431f7b51d057cfa",
            "0a1bc3d56afa4f6d858070f7848e36de",
            "0a3b1d5563604a048ce6313fd8fe5d26",
            "acc000232c604a8ca5c3cc4d1033b311"
          ]
        }
      },
      "source": [
        "import tensorflow as tf\n",
        "import tensorflow_datasets as tfds\n",
        "\n",
        "mnist_test, info_test = tfds.load(\"mnist\", split=\"test\", with_info=True)\n",
        "mnist_train, info_train = tfds.load(\"mnist\", split=\"train\", with_info=True)\n",
        "\n",
        "print(mnist_test.take(1))"
      ],
      "execution_count": 2,
      "outputs": [
        {
          "output_type": "display_data",
          "data": {
            "text/html": [
              "<p style=\"color: red;\">\n",
              "The default version of TensorFlow in Colab will soon switch to TensorFlow 2.x.<br>\n",
              "We recommend you <a href=\"https://www.tensorflow.org/guide/migrate\" target=\"_blank\">upgrade</a> now \n",
              "or ensure your notebook will continue to use TensorFlow 1.x via the <code>%tensorflow_version 1.x</code> magic:\n",
              "<a href=\"https://colab.research.google.com/notebooks/tensorflow_version.ipynb\" target=\"_blank\">more info</a>.</p>\n"
            ],
            "text/plain": [
              "<IPython.core.display.HTML object>"
            ]
          },
          "metadata": {
            "tags": []
          }
        },
        {
          "output_type": "stream",
          "text": [
            "\u001b[1mDownloading and preparing dataset mnist (11.06 MiB) to /root/tensorflow_datasets/mnist/1.0.0...\u001b[0m\n"
          ],
          "name": "stdout"
        },
        {
          "output_type": "stream",
          "text": [
            "WARNING:absl:Dataset mnist is hosted on GCS. It will automatically be downloaded to your\n",
            "local data directory. If you'd instead prefer to read directly from our public\n",
            "GCS bucket (recommended if you're running on GCP), you can instead set\n",
            "data_dir=gs://tfds-data/datasets.\n",
            "\n"
          ],
          "name": "stderr"
        },
        {
          "output_type": "display_data",
          "data": {
            "application/vnd.jupyter.widget-view+json": {
              "model_id": "60dd530122834958bc0f3e3ae4ca5757",
              "version_minor": 0,
              "version_major": 2
            },
            "text/plain": [
              "HBox(children=(IntProgress(value=0, description='Dl Completed...', max=19, style=ProgressStyle(description_wid…"
            ]
          },
          "metadata": {
            "tags": []
          }
        },
        {
          "output_type": "stream",
          "text": [
            "\n",
            "\n",
            "\u001b[1mDataset mnist downloaded and prepared to /root/tensorflow_datasets/mnist/1.0.0. Subsequent calls will reuse this data.\u001b[0m\n",
            "<DatasetV1Adapter shapes: {image: (28, 28, 1), label: ()}, types: {image: tf.uint8, label: tf.int64}>\n"
          ],
          "name": "stdout"
        }
      ]
    },
    {
      "cell_type": "code",
      "metadata": {
        "id": "r8mnHM3r3Xjc",
        "colab_type": "code",
        "outputId": "c4b7c80a-a625-4e65-817f-99e77783ddc6",
        "colab": {
          "base_uri": "https://localhost:8080/",
          "height": 136
        }
      },
      "source": [
        "import tensorflow as tf\n",
        "import numpy as np\n",
        "\n",
        "mnist = tf.keras.datasets.mnist\n",
        "\n",
        "(X_train, y_train), (X_test, y_test) = mnist.load_data()\n",
        "\n",
        "X_train = X_train.reshape([60000, -1])\n",
        "X_test = X_test.reshape([10000, -1])\n",
        "\n",
        "print(X_train.shape)\n",
        "print(X_test.shape)\n",
        "\n",
        "mean_vals = np.mean(X_train, axis=0)\n",
        "std_val = np.std(X_train)\n",
        "\n",
        "X_train_centered = (X_train - mean_vals) / std_val\n",
        "X_test_centered = (X_test - mean_vals) / std_val\n",
        "\n",
        "print(X_train_centered.shape, y_train.shape)\n",
        "print(X_test_centered.shape, y_test.shape)\n",
        "\n",
        "print(y_train)"
      ],
      "execution_count": 3,
      "outputs": [
        {
          "output_type": "stream",
          "text": [
            "Downloading data from https://storage.googleapis.com/tensorflow/tf-keras-datasets/mnist.npz\n",
            "11493376/11490434 [==============================] - 0s 0us/step\n",
            "(60000, 784)\n",
            "(10000, 784)\n",
            "(60000, 784) (60000,)\n",
            "(10000, 784) (10000,)\n",
            "[5 0 4 ... 5 6 8]\n"
          ],
          "name": "stdout"
        }
      ]
    },
    {
      "cell_type": "code",
      "metadata": {
        "id": "pol7KgqQzcBR",
        "colab_type": "code",
        "colab": {}
      },
      "source": [
        "import tensorflow as tf\n",
        "\n",
        "n_features = X_train_centered.shape[1]\n",
        "n_classes = 10\n",
        "random_seed = 1234\n",
        "np.random.seed(random_seed)\n",
        "\n",
        "g = tf.Graph()\n",
        "\n",
        "with g.as_default():\n",
        "  tf.set_random_seed(random_seed)\n",
        "  tf_x = tf.placeholder(\n",
        "      dtype=tf.float32,\n",
        "      shape=(None, n_features),\n",
        "      name='tf_x'\n",
        "  )\n",
        "\n",
        "  tf_y = tf.placeholder(\n",
        "      dtype=tf.int32,\n",
        "      shape=None,\n",
        "      name='tf_y'\n",
        "  )\n",
        "\n",
        "  y_onehot = tf.one_hot(indices=tf_y, depth=n_classes)\n",
        "  \n",
        "  h1 = tf.layers.dense(\n",
        "      inputs=tf_x,\n",
        "      units=50,\n",
        "      activation=tf.tanh,\n",
        "      name='layer1',\n",
        "  )\n",
        "\n",
        "  h2 = tf.layers.dense(\n",
        "      inputs=h1,\n",
        "      units=50,\n",
        "      activation=tf.tanh,\n",
        "      name='layer2',\n",
        "  )\n",
        "\n",
        "  logits = tf.layers.dense(\n",
        "      inputs=h2,\n",
        "      units=10,\n",
        "      activation=None,\n",
        "      name='layer3',\n",
        "  )\n",
        "  \n",
        "  predictions = {\n",
        "      'classes' : tf.argmax(logits, axis=1, name='predicted_classes'),\n",
        "      'probabilities' : tf.nn.softmax(logits, name='softmax_tensor'),\n",
        "  }"
      ],
      "execution_count": 0,
      "outputs": []
    },
    {
      "cell_type": "code",
      "metadata": {
        "id": "cCp6KEan1GeX",
        "colab_type": "code",
        "colab": {}
      },
      "source": [
        "with g.as_default():\n",
        "  cost = tf.losses.softmax_cross_entropy(\n",
        "      onehot_labels=y_onehot,\n",
        "      logits=logits,\n",
        "  )\n",
        "\n",
        "  optimizer = tf.train.GradientDescentOptimizer(learning_rate=0.001)\n",
        "  train_op = optimizer.minimize(loss=cost)\n",
        "  init_op = tf.global_variables_initializer()"
      ],
      "execution_count": 0,
      "outputs": []
    },
    {
      "cell_type": "code",
      "metadata": {
        "id": "chPt04741io8",
        "colab_type": "code",
        "colab": {}
      },
      "source": [
        "def create_batch_generator(X, y, batch_size=128, shuffle=False):\n",
        "  X_copy = np.array(X)\n",
        "  y_copy = np.array(y)\n",
        "\n",
        "  if shuffle:\n",
        "    data = np.column_stack((X_copy, y_copy))\n",
        "    np.random.shuffle(data)\n",
        "    X_copy = data[:, :-1]\n",
        "    y_copy = data[:, -1].astype(int)\n",
        "\n",
        "  for i in range(0, X.shape[0], batch_size):\n",
        "    yield (X_copy[i:i+batch_size, :], y_copy[i:i+batch_size])"
      ],
      "execution_count": 0,
      "outputs": []
    },
    {
      "cell_type": "code",
      "metadata": {
        "id": "XW74G2qF2QwT",
        "colab_type": "code",
        "colab": {
          "base_uri": "https://localhost:8080/",
          "height": 1000
        },
        "outputId": "957eda7a-82e9-4a7c-c252-b966e6cba796"
      },
      "source": [
        "sess = tf.Session(graph=g)\n",
        "sess.run(init_op)\n",
        "\n",
        "training_costs = []\n",
        "\n",
        "for epoch in range(50):\n",
        "  training_loss = []\n",
        "  batch_generator = create_batch_generator(\n",
        "      X_train_centered,\n",
        "      y_train,\n",
        "      batch_size=64,\n",
        "  )\n",
        "\n",
        "  for batch_X, batch_y in batch_generator:\n",
        "    feed = {\n",
        "        tf_x: batch_X,\n",
        "        tf_y: batch_y,\n",
        "    }\n",
        "\n",
        "    _, batch_cost = sess.run(\n",
        "        [train_op, cost],\n",
        "        feed_dict=feed,\n",
        "    )\n",
        "\n",
        "    training_costs.append(batch_cost)\n",
        "\n",
        "  print(epoch + 1)\n",
        "  print(np.mean(training_costs))"
      ],
      "execution_count": 19,
      "outputs": [
        {
          "output_type": "stream",
          "text": [
            "1\n",
            "1.5789992\n",
            "2\n",
            "1.2643682\n",
            "3\n",
            "1.0900846\n",
            "4\n",
            "0.9745121\n",
            "5\n",
            "0.8908125\n",
            "6\n",
            "0.82676566\n",
            "7\n",
            "0.77583027\n",
            "8\n",
            "0.73413855\n",
            "9\n",
            "0.69923925\n",
            "10\n",
            "0.66949505\n",
            "11\n",
            "0.6437669\n",
            "12\n",
            "0.6212354\n",
            "13\n",
            "0.6012947\n",
            "14\n",
            "0.5834865\n",
            "15\n",
            "0.567457\n",
            "16\n",
            "0.5529286\n",
            "17\n",
            "0.5396799\n",
            "18\n",
            "0.52753216\n",
            "19\n",
            "0.5163393\n",
            "20\n",
            "0.50598085\n",
            "21\n",
            "0.4963563\n",
            "22\n",
            "0.4873811\n",
            "23\n",
            "0.47898367\n",
            "24\n",
            "0.47110283\n",
            "25\n",
            "0.4636861\n",
            "26\n",
            "0.4566882\n",
            "27\n",
            "0.45006952\n",
            "28\n",
            "0.44379574\n",
            "29\n",
            "0.43783656\n",
            "30\n",
            "0.43216527\n",
            "31\n",
            "0.42675832\n",
            "32\n",
            "0.42159462\n",
            "33\n",
            "0.41665548\n",
            "34\n",
            "0.41192406\n",
            "35\n",
            "0.40738535\n",
            "36\n",
            "0.4030257\n",
            "37\n",
            "0.39883283\n",
            "38\n",
            "0.39479563\n",
            "39\n",
            "0.39090398\n",
            "40\n",
            "0.38714868\n",
            "41\n",
            "0.38352126\n",
            "42\n",
            "0.3800141\n",
            "43\n",
            "0.37662005\n",
            "44\n",
            "0.37333274\n",
            "45\n",
            "0.37014607\n",
            "46\n",
            "0.3670546\n",
            "47\n",
            "0.3640532\n",
            "48\n",
            "0.3611372\n",
            "49\n",
            "0.35830218\n",
            "50\n",
            "0.35554412\n"
          ],
          "name": "stdout"
        }
      ]
    },
    {
      "cell_type": "code",
      "metadata": {
        "id": "hSjUkul63vRK",
        "colab_type": "code",
        "colab": {
          "base_uri": "https://localhost:8080/",
          "height": 34
        },
        "outputId": "1eb38543-9528-46d0-d7bf-7681fbbd2e23"
      },
      "source": [
        "feed = {\n",
        "    tf_x : X_test_centered,\n",
        "}\n",
        "\n",
        "y_pred = sess.run(predictions['classes'], feed_dict=feed)\n",
        "\n",
        "print(np.sum(y_pred == y_test) / y_test.shape[0]) "
      ],
      "execution_count": 20,
      "outputs": [
        {
          "output_type": "stream",
          "text": [
            "0.9363\n"
          ],
          "name": "stdout"
        }
      ]
    }
  ]
}